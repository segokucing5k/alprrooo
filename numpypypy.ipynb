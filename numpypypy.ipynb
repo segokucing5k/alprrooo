{
 "cells": [
  {
   "cell_type": "code",
   "execution_count": null,
   "metadata": {},
   "outputs": [],
   "source": [
    "### no 1\n",
    "import numpy as np\n",
    "\n",
    "A = np.array([3, 7, 9, 13, 5])\n",
    "mean = np.mean(A)\n",
    "print(mean)"
   ]
  },
  {
   "cell_type": "code",
   "execution_count": null,
   "metadata": {},
   "outputs": [],
   "source": [
    "### no 2\n",
    "import numpy as np\n",
    "\n",
    "a = np.array([1, 2, 3])\n",
    "b = np.array([4, 5, 6])\n",
    "\n",
    "sum = a + b\n",
    "print(\"jumlah array a + b = \", sum)\n",
    "\n",
    "times = a * b\n",
    "print(\"perkalian array a * b = \", times)"
   ]
  },
  {
   "cell_type": "code",
   "execution_count": null,
   "metadata": {},
   "outputs": [],
   "source": [
    "### no 3\n",
    "import numpy as np\n",
    "\n",
    "for baris in range(4):\n",
    "    for kolom in range(3):\n",
    "        matriks_2d[baris][kolom] = 10\n",
    "\n",
    "print(matriks_2d)"
   ]
  },
  {
   "cell_type": "code",
   "execution_count": null,
   "metadata": {},
   "outputs": [],
   "source": [
    "### no 4\n",
    "import numpy as np\n",
    "\n",
    "array = np.random.rand(10)\n",
    "print(\"array = \", array)\n",
    "\n",
    "print(\"nilai maksimum = \", np.max(array))\n",
    "print(\"nilai minimum = \", np.min(array))\n",
    "print(\"rata-rata = \", np.mean(array))"
   ]
  }
 ],
 "metadata": {
  "kernelspec": {
   "display_name": "Python 3",
   "language": "python",
   "name": "python3"
  },
  "language_info": {
   "codemirror_mode": {
    "name": "ipython",
    "version": 3
   },
   "file_extension": ".py",
   "mimetype": "text/x-python",
   "name": "python",
   "nbconvert_exporter": "python",
   "pygments_lexer": "ipython3",
   "version": "3.8.10"
  }
 },
 "nbformat": 4,
 "nbformat_minor": 2
}
